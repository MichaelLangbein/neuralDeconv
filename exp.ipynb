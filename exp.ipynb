{
 "cells": [
  {
   "cell_type": "code",
   "execution_count": 41,
   "metadata": {},
   "outputs": [],
   "source": [
    "import data as d\n",
    "import plotting as p\n",
    "import matplotlib.pyplot as plt\n",
    "import netCDF4 as nc\n",
    "import rasterio as rio\n",
    "import shapely as shp"
   ]
  },
  {
   "cell_type": "code",
   "execution_count": 20,
   "metadata": {},
   "outputs": [
    {
     "output_type": "execute_result",
     "data": {
      "text/plain": "<open DatasetReader name='netcdf:./downloads/data_2020_feb.nc:tcno2' mode='r'>"
     },
     "metadata": {},
     "execution_count": 20
    }
   ],
   "source": [
    "data = rio.open('netcdf:./downloads/data_2020_feb.nc:tcno2', 'r')"
   ]
  },
  {
   "cell_type": "code",
   "execution_count": 36,
   "metadata": {},
   "outputs": [],
   "source": [
    "bbox = shp.geometry.box(5, 47, 15, 55)\n",
    "ger, transf = rio.mask.mask(data, [bbox], crop=True)"
   ]
  },
  {
   "cell_type": "code",
   "execution_count": 42,
   "metadata": {},
   "outputs": [
    {
     "output_type": "error",
     "ename": "NameError",
     "evalue": "name 'ani' is not defined",
     "traceback": [
      "\u001b[1;31m---------------------------------------------------------------------------\u001b[0m",
      "\u001b[1;31mNameError\u001b[0m                                 Traceback (most recent call last)",
      "\u001b[1;32m<ipython-input-42-ca012fdea160>\u001b[0m in \u001b[0;36m<module>\u001b[1;34m\u001b[0m\n\u001b[0;32m      1\u001b[0m \u001b[0manimation\u001b[0m \u001b[1;33m=\u001b[0m \u001b[0mp\u001b[0m\u001b[1;33m.\u001b[0m\u001b[0mcreateAnimation\u001b[0m\u001b[1;33m(\u001b[0m\u001b[0mger\u001b[0m\u001b[1;33m)\u001b[0m\u001b[1;33m\u001b[0m\u001b[1;33m\u001b[0m\u001b[0m\n\u001b[1;32m----> 2\u001b[1;33m \u001b[0mp\u001b[0m\u001b[1;33m.\u001b[0m\u001b[0mdisplayAnimationInNotebook\u001b[0m\u001b[1;33m(\u001b[0m\u001b[0manimation\u001b[0m\u001b[1;33m)\u001b[0m\u001b[1;33m\u001b[0m\u001b[1;33m\u001b[0m\u001b[0m\n\u001b[0m",
      "\u001b[1;32mc:\\Users\\lang_m13\\Desktop\\code\\python\\neuralDeconv\\plotting.py\u001b[0m in \u001b[0;36mdisplayAnimationInNotebook\u001b[1;34m(animation)\u001b[0m\n\u001b[0;32m     21\u001b[0m \u001b[1;33m\u001b[0m\u001b[0m\n\u001b[0;32m     22\u001b[0m \u001b[1;32mdef\u001b[0m \u001b[0mdisplayAnimationInNotebook\u001b[0m\u001b[1;33m(\u001b[0m\u001b[0manimation\u001b[0m\u001b[1;33m)\u001b[0m\u001b[1;33m:\u001b[0m\u001b[1;33m\u001b[0m\u001b[1;33m\u001b[0m\u001b[0m\n\u001b[1;32m---> 23\u001b[1;33m     \u001b[0mHTML\u001b[0m\u001b[1;33m(\u001b[0m\u001b[0mani\u001b[0m\u001b[1;33m.\u001b[0m\u001b[0mto_jshtml\u001b[0m\u001b[1;33m(\u001b[0m\u001b[1;33m)\u001b[0m\u001b[1;33m)\u001b[0m\u001b[1;33m\u001b[0m\u001b[1;33m\u001b[0m\u001b[0m\n\u001b[0m\u001b[0;32m     24\u001b[0m \u001b[1;33m\u001b[0m\u001b[0m\n\u001b[0;32m     25\u001b[0m \u001b[1;33m\u001b[0m\u001b[0m\n",
      "\u001b[1;31mNameError\u001b[0m: name 'ani' is not defined"
     ]
    }
   ],
   "source": [
    "animation = p.createAnimation(ger)\n",
    "p.displayAnimationInNotebook(animation)"
   ]
  },
  {
   "cell_type": "code",
   "execution_count": null,
   "metadata": {},
   "outputs": [],
   "source": []
  }
 ],
 "metadata": {
  "language_info": {
   "codemirror_mode": {
    "name": "ipython",
    "version": 3
   },
   "file_extension": ".py",
   "mimetype": "text/x-python",
   "name": "python",
   "nbconvert_exporter": "python",
   "pygments_lexer": "ipython3",
   "version": "3.7.7-final"
  },
  "orig_nbformat": 2,
  "kernelspec": {
   "name": "python37764bitdeconvconda7d21070b6aeb4f8195a7fc043cd260a1",
   "display_name": "Python 3.7.7 64-bit ('deconv': conda)"
  }
 },
 "nbformat": 4,
 "nbformat_minor": 2
}